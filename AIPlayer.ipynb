{
 "cells": [
  {
   "cell_type": "code",
   "execution_count": 1,
   "metadata": {},
   "outputs": [],
   "source": [
    "import copy  # Copy objects, don't just point to them.\n",
    "import numpy as np  # Linear algebra libraries."
   ]
  },
  {
   "cell_type": "code",
   "execution_count": 7,
   "metadata": {},
   "outputs": [],
   "source": [
    "class AI(object):\n",
    "    \"\"\"\n",
    "    Artificial intelligence for playing Othello.\n",
    " \n",
    "    Instance variables:\n",
    "        max_lvl - highest available level of intelligence\n",
    "        strategy - int in range [0, max_lvl] indicating strategy level\n",
    "            0 - take random available space\n",
    "            1 - maximize number of disks taken\n",
    "            2 - take square with highest available weight\n",
    "            3 - maximize weights of move + all flipped disks\n",
    "            4 - minimize opponent's liberties\n",
    " \n",
    "    Methods:\n",
    "        move - take a move on the given board state\n",
    "    \"\"\"\n",
    "    max_lvl=0;\n",
    "    \n",
    "    def __init__(self, strategy=0):\n",
    "        \"\"\"\n",
    "        Initialize AI.\n",
    " \n",
    "        Optional arguments:\n",
    "            strategy - a number from -1 to max_lvl; default -1 = random\n",
    " \n",
    "        Raises:\n",
    "            ValueError - if invalid strategy passed\n",
    "        \"\"\"\n",
    "        if strategy not in range(0, self.max_lvl+1):\n",
    "            raise ValueError('strategy level must be an integer from ' \\\n",
    "                             '-1 to %s' % (self.max_lvl))\n",
    " \n",
    "        self.strategy = strategy\n",
    "    \n",
    "    def _rand_move(self, possible_moves):\n",
    "        \"\"\"Take a random allowed move.\"\"\"\n",
    "        weights = np.zeros(len(possible_moves[0]))\n",
    "        return weights\n",
    "    \n",
    "    def _choice(self, weights):\n",
    "        # Choose from set of best moves (weighted)\n",
    "        p = np.exp(weights)\n",
    "        p /= np.sum(p)\n",
    "        return np.random.choice(range(len(weights)), p=p)\n",
    " \n",
    "    def move(self, b):\n",
    "        \"\"\"\n",
    "        Take a move on the given board state.\n",
    " \n",
    "        Arguments:\n",
    "            b - a board.Board() object\n",
    " \n",
    "        Returns:\n",
    "            move - coordinates (x, y) on which to make move\n",
    "        \"\"\"\n",
    "        possible_moves = b.get_valid_moves()  \n",
    "        possible_moves=list(zip(*possible_moves))\n",
    "        weights = self._rand_move(possible_moves)\n",
    "        choice = self._choice(weights)\n",
    "        return possible_moves[0][choice]"
   ]
  }
 ],
 "metadata": {
  "kernelspec": {
   "display_name": "Python 3",
   "language": "python",
   "name": "python3"
  },
  "language_info": {
   "codemirror_mode": {
    "name": "ipython",
    "version": 3
   },
   "file_extension": ".py",
   "mimetype": "text/x-python",
   "name": "python",
   "nbconvert_exporter": "python",
   "pygments_lexer": "ipython3",
   "version": "3.7.0"
  }
 },
 "nbformat": 4,
 "nbformat_minor": 2
}
